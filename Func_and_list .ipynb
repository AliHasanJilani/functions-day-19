{
 "cells": [
  {
   "cell_type": "code",
   "execution_count": 5,
   "id": "c844c5fe-97f4-43e1-95c0-f541aee4d3f6",
   "metadata": {},
   "outputs": [
    {
     "name": "stdout",
     "output_type": "stream",
     "text": [
      "Even Numbers: [10, 66, 78, 92]\n",
      "Odd Numbers: [23, 45, 89]\n"
     ]
    }
   ],
   "source": [
    "numbers = [10, 23, 45, 66, 78, 89, 92]\n",
    "\n",
    "even = list(filter(lambda x: x % 2 == 0, numbers))\n",
    "odd = list(filter(lambda x: x % 2 != 0, numbers))\n",
    "\n",
    "print(\"Even Numbers:\", even)\n",
    "print(\"Odd Numbers:\", odd)\n"
   ]
  },
  {
   "cell_type": "code",
   "execution_count": 17,
   "id": "672e5e44-3f56-4795-9aa9-f683c923ca3d",
   "metadata": {},
   "outputs": [
    {
     "name": "stdout",
     "output_type": "stream",
     "text": [
      "Negative: 3\n",
      "Positive: 3\n",
      "Zero: 2\n"
     ]
    }
   ],
   "source": [
    "numbers = [3, -1, 0, 4, -2, 7, 0, -6]\n",
    "Positive=0\n",
    "Negative=0\n",
    "Zero=0\n",
    "for i in numbers:\n",
    "    if i<0:\n",
    "        Negative+=1\n",
    "    elif i>0:\n",
    "        Positive+=1\n",
    "    else:\n",
    "        Zero+=1\n",
    "\n",
    "print(\"Negative:\",Negative)\n",
    "print(\"Positive:\",Positive)\n",
    "print(\"Zero:\",Zero)"
   ]
  },
  {
   "cell_type": "code",
   "execution_count": 15,
   "id": "e89bdf84-7e09-4f4e-ae51-65dd22a85bd0",
   "metadata": {},
   "outputs": [
    {
     "name": "stdout",
     "output_type": "stream",
     "text": [
      "sum: 24\n"
     ]
    }
   ],
   "source": [
    "numbers = [4, 7, 1, 9, 3]\n",
    "sum=0\n",
    "\n",
    "for i in range(len(numbers)):\n",
    "    sum+=numbers[i]\n",
    "print(\"sum:\",sum)"
   ]
  },
  {
   "cell_type": "code",
   "execution_count": 29,
   "id": "f863dd1d-e3fd-47c0-9162-9e8cbf52d1d6",
   "metadata": {},
   "outputs": [
    {
     "name": "stdout",
     "output_type": "stream",
     "text": [
      "[5, 4, 3, 2, 1]\n"
     ]
    }
   ],
   "source": [
    "numbers=[1,2,3,4,5]\n",
    "list1=[]\n",
    "for i in range(len(numbers),0,-1):\n",
    "    list1.append(i)\n",
    "    \n",
    "print(list1)\n",
    "    "
   ]
  },
  {
   "cell_type": "code",
   "execution_count": 59,
   "id": "c5172624-642a-4f26-a9c3-e20d5fd6891c",
   "metadata": {},
   "outputs": [
    {
     "name": "stdout",
     "output_type": "stream",
     "text": [
      "[1, 3, 5, 3, 7, 9, 1, 5]\n"
     ]
    }
   ],
   "source": [
    "numbers = [1, 3, 5, 3, 7, 9, 1, 5]\n",
    "\n",
    "list1=[]\n",
    "\n",
    "for i in range(len(numbers)):\n",
    "    for j in range(len(numbers)) :\n",
    "        if numbers[i]==numbers[j-1]:\n",
    "            numbers.remove\n",
    "\n",
    "print(numbers)"
   ]
  },
  {
   "cell_type": "code",
   "execution_count": 87,
   "id": "58a8bca1-293d-4a97-b395-ec1a5530f5a8",
   "metadata": {},
   "outputs": [
    {
     "name": "stdout",
     "output_type": "stream",
     "text": [
      "largest: 20 smallest: 5\n"
     ]
    }
   ],
   "source": [
    "numbers = [5, 12, 8, 3, 20, 15]\n",
    "largest=numbers[0]\n",
    "smallest=numbers[0]\n",
    "for num in numbers:\n",
    "    if num>largest:\n",
    "        largest=num\n",
    "        if num<smallest:\n",
    "            smallest=sum\n",
    "print(\"largest:\",largest,\"smallest:\",smallest) \n",
    "    "
   ]
  },
  {
   "cell_type": "code",
   "execution_count": 91,
   "id": "9e220102-5354-4844-96cd-afeaeda913cf",
   "metadata": {},
   "outputs": [
    {
     "name": "stdout",
     "output_type": "stream",
     "text": [
      "Duplicate Elements: [1, 3, 5]\n"
     ]
    }
   ],
   "source": [
    "numbers = [1, 3, 5, 3, 7, 9, 1, 5]\n",
    "Duplicate=[]\n",
    "\n",
    "for i in range(len(numbers)):\n",
    "    for j in range(i+1,len(numbers)):\n",
    "        if numbers[i]==numbers[j]:\n",
    "            Duplicate.append(numbers[i])\n",
    "\n",
    "print(\"Duplicate Elements:\",Duplicate)"
   ]
  },
  {
   "cell_type": "code",
   "execution_count": 95,
   "id": "ef94092d-23e0-4051-93d8-72b31dd075f8",
   "metadata": {},
   "outputs": [
    {
     "name": "stdout",
     "output_type": "stream",
     "text": [
      "Duplicate Elements: [2, 4, 6, 8, 10]\n"
     ]
    }
   ],
   "source": [
    "numbers = [2, 4, 6, 8, 4, 2, 10, 6]\n",
    "Duplicate=[]\n",
    "\n",
    "for num in numbers:\n",
    "        if num not in Duplicate:\n",
    "            Duplicate.append(num)\n",
    "\n",
    "print(\"Duplicate Elements:\",Duplicate)"
   ]
  },
  {
   "cell_type": "code",
   "execution_count": 107,
   "id": "4223b92e-36ec-4a13-9c7e-5cb4cb7aa3d1",
   "metadata": {},
   "outputs": [
    {
     "name": "stdout",
     "output_type": "stream",
     "text": [
      "Second largest number: 12\n"
     ]
    }
   ],
   "source": [
    "numbers = [4, 8, 12, 5, 18, 9]\n",
    "largest=numbers[0]\n",
    "second_largest=numbers[0]\n",
    "\n",
    "for num in numbers:\n",
    "    if num>largest:\n",
    "        second_largest=largest\n",
    "        largest=num\n",
    "    elif num>second_largest:\n",
    "        second_largest=num\n",
    "\n",
    "print(\"Second largest number:\", second_largest)"
   ]
  },
  {
   "cell_type": "code",
   "execution_count": 1,
   "id": "743e1ff3-7c1c-4e9e-a631-f32cbe014246",
   "metadata": {},
   "outputs": [
    {
     "name": "stdout",
     "output_type": "stream",
     "text": [
      "list is sorted\n"
     ]
    }
   ],
   "source": [
    "numbers = [2, 5, 7, 10, 15]\n",
    "sort=True\n",
    "for i in range(len(numbers)-1):\n",
    "    if numbers[i]>numbers[i+1]:\n",
    "        sort=False\n",
    "        break\n",
    "\n",
    "if sort:\n",
    "    print(\"list is sorted\")\n",
    "else:\n",
    "    print(\"list is not sorted\")"
   ]
  },
  {
   "cell_type": "code",
   "execution_count": 65,
   "id": "642126b4-2852-4355-ab7e-bb691943a4c4",
   "metadata": {},
   "outputs": [
    {
     "name": "stdout",
     "output_type": "stream",
     "text": [
      "1 5\n",
      "2 4\n"
     ]
    }
   ],
   "source": [
    "list1=[1,2,3,4,5]\n",
    "k=6\n",
    "for i in range(len(list1)):\n",
    "    for j in range(i+1,len(list1)):\n",
    "        if list1[i]+list1[j]==k:\n",
    "            print(list1[i],list1[j])"
   ]
  },
  {
   "cell_type": "code",
   "execution_count": 21,
   "id": "f58e71b8-6b5d-4d3b-b0c1-736879f279aa",
   "metadata": {},
   "outputs": [
    {
     "name": "stdout",
     "output_type": "stream",
     "text": [
      "sum: 6\n"
     ]
    }
   ],
   "source": [
    "# *args(non-keyword argument\n",
    "def add_number(*args):\n",
    "    total=sum(args)\n",
    "    print(\"sum:\",total)\n",
    "\n",
    "add_number(1,2,3)"
   ]
  },
  {
   "cell_type": "code",
   "execution_count": 69,
   "id": "a230f85a-530e-4477-bbd7-a373d241a1ae",
   "metadata": {},
   "outputs": [
    {
     "name": "stdout",
     "output_type": "stream",
     "text": [
      "name:ali\n",
      "age:20\n",
      "city:jaipur\n"
     ]
    }
   ],
   "source": [
    "# **kwargs(keyword arguments)\n",
    "def print_details(**kwargs):\n",
    "    for key,value in kwargs.items():\n",
    "        print(f\"{key}:{value}\")\n",
    "\n",
    "print_details(name=\"ali\",age=\"20\",city=\"jaipur\")"
   ]
  },
  {
   "cell_type": "code",
   "execution_count": 51,
   "id": "5b90b6d4-587c-4b29-8353-3bb42d95bd99",
   "metadata": {},
   "outputs": [
    {
     "name": "stdout",
     "output_type": "stream",
     "text": [
      "positional arguments: (1, 2, 3)\n",
      "keyword arguments: {'name': 'saurabh', 'age': 25}\n"
     ]
    }
   ],
   "source": [
    "# using args and kwargs together\n",
    "\n",
    "def display_info(*args, **kwargs):\n",
    "    print(\"positional arguments:\",args)\n",
    "    print(\"keyword arguments:\",kwargs)\n",
    "\n",
    "display_info(1,2,3, name=\"saurabh\", age=25)"
   ]
  },
  {
   "cell_type": "code",
   "execution_count": 59,
   "id": "81dc6089-7326-4c71-8fac-ea6f95502a71",
   "metadata": {},
   "outputs": [
    {
     "name": "stdout",
     "output_type": "stream",
     "text": [
      "hello ali\n"
     ]
    }
   ],
   "source": [
    "# required argument\n",
    "\n",
    "def greet(name):\n",
    "    print(\"hello\",name)\n",
    "\n",
    "greet(\"ali\")"
   ]
  },
  {
   "cell_type": "code",
   "execution_count": 63,
   "id": "1b577155-54fc-4d88-adc5-38e78b06b3ac",
   "metadata": {},
   "outputs": [
    {
     "name": "stdout",
     "output_type": "stream",
     "text": [
      "hello ali\n",
      "hello Guest\n"
     ]
    }
   ],
   "source": [
    "# default argument\n",
    "def input(name=\"Guest\"):\n",
    "    print(\"hello\", name)\n",
    "\n",
    "input(\"ali\")\n",
    "input()"
   ]
  },
  {
   "cell_type": "code",
   "execution_count": 71,
   "id": "3289ea8c-3e02-4bff-9c5f-1c879b70523b",
   "metadata": {},
   "outputs": [
    {
     "name": "stdout",
     "output_type": "stream",
     "text": [
      "8\n"
     ]
    }
   ],
   "source": [
    "# return Keyword\n",
    "\n",
    "def add(a,b):\n",
    "    return a+b\n",
    "\n",
    "result=add(5,3)\n",
    "print(result)"
   ]
  },
  {
   "cell_type": "code",
   "execution_count": 75,
   "id": "71e33f90-ce4b-422c-8be4-311f1995b24d",
   "metadata": {},
   "outputs": [
    {
     "name": "stdout",
     "output_type": "stream",
     "text": [
      "112\n",
      "3\n"
     ]
    }
   ],
   "source": [
    "def max_number(*args):\n",
    "    return max(args)\n",
    "\n",
    "print(max_number(10,20,30,2,4,90,112))\n",
    "print(max_number(-1,-2,-22,3))"
   ]
  },
  {
   "cell_type": "code",
   "execution_count": 89,
   "id": "22763af2-cb19-49a4-a528-200c5d2f18b5",
   "metadata": {},
   "outputs": [
    {
     "name": "stdout",
     "output_type": "stream",
     "text": [
      "24\n",
      "25\n"
     ]
    }
   ],
   "source": [
    "def product(*args):\n",
    "    result=1\n",
    "    for num in args:\n",
    "        result*=num\n",
    "    return result\n",
    "\n",
    "print(product(2,3,4))\n",
    "print(product(5,5))"
   ]
  },
  {
   "cell_type": "code",
   "execution_count": 97,
   "id": "675f257f-dfdf-4ebb-8419-59ecf562003e",
   "metadata": {},
   "outputs": [
    {
     "name": "stdout",
     "output_type": "stream",
     "text": [
      "Ali, hasan\n"
     ]
    }
   ],
   "source": [
    "def full_name(**kwargs):\n",
    "    return f\"{kwargs.get('first_name','unknown')}, {kwargs.get('last_name','unknown')}\"\n",
    "\n",
    "print(full_name(first_name=\"Ali\",last_name=\"hasan\"))"
   ]
  },
  {
   "cell_type": "code",
   "execution_count": 105,
   "id": "e590d29d-a400-42ce-a6e0-ffb826df2da0",
   "metadata": {},
   "outputs": [
    {
     "name": "stdout",
     "output_type": "stream",
     "text": [
      "3\n",
      "1\n"
     ]
    }
   ],
   "source": [
    "def count_vowel(string):\n",
    "    vowels=\"aeiouAEIOU\"\n",
    "    return sum(1 for char in string if char in vowels)\n",
    "\n",
    "print(count_vowel(\"HEllo Word\"))\n",
    "print(count_vowel(\"Python\"))"
   ]
  },
  {
   "cell_type": "code",
   "execution_count": 107,
   "id": "0a3f7d8b-8b72-4003-88a3-34c9c13e517b",
   "metadata": {},
   "outputs": [
    {
     "name": "stdout",
     "output_type": "stream",
     "text": [
      "100\n",
      "40\n"
     ]
    }
   ],
   "source": [
    "def shopping_cart(*items,**prices):\n",
    "    total=sum(prices[item] for item in items if item in prices)\n",
    "    return total\n",
    "\n",
    "print(shopping_cart(\"apple\",\"banana\",\"mango\",apple=50,banana=20,mango=30))\n",
    "print(shopping_cart(\"grapes\",grapes=40))"
   ]
  },
  {
   "cell_type": "code",
   "execution_count": 119,
   "id": "cd43d52c-8493-424e-863b-8d9211b947fe",
   "metadata": {},
   "outputs": [
    {
     "name": "stdout",
     "output_type": "stream",
     "text": [
      "hello Ali you are 18 years old\n",
      "None\n"
     ]
    }
   ],
   "source": [
    "def greet(name, age=18):\n",
    "    print('hello',name,'you are',age,'years old')\n",
    "\n",
    "print(greet(\"Ali\"))"
   ]
  },
  {
   "cell_type": "code",
   "execution_count": 121,
   "id": "6de909c8-abed-45c2-869b-8f19608b52ec",
   "metadata": {},
   "outputs": [
    {
     "name": "stdout",
     "output_type": "stream",
     "text": [
      "[1, 2, 3, 4, 5, 6]\n",
      "['a', 'b', 'c', 'd', 'e', 'f']\n"
     ]
    }
   ],
   "source": [
    "def merge(*args):\n",
    "    return [item for lst in args for item in lst]\n",
    "\n",
    "print(merge([1,2,3],[4,5,6]))\n",
    "print(merge([\"a\",\"b\",\"c\"],[\"d\",\"e\"],[\"f\"]))"
   ]
  },
  {
   "cell_type": "code",
   "execution_count": 131,
   "id": "3116238a-6c34-4be5-8c3b-78b737ce8261",
   "metadata": {},
   "outputs": [
    {
     "name": "stdout",
     "output_type": "stream",
     "text": [
      "Evens: [2, 4, 6, 8]\n",
      "Odds: [1, 3, 5, 7]\n"
     ]
    }
   ],
   "source": [
    "def separate_even_odd(numbers):\n",
    "    even=[num for num in numbers if num%2==0]\n",
    "    odd=[num for num in numbers if num%2!=0]\n",
    "    return even,odd\n",
    "\n",
    "evens,odds=separate_even_odd([1,2,3,4,6,5,7,8])\n",
    "print(\"Evens:\",evens)\n",
    "print(\"Odds:\",odds)"
   ]
  }
 ],
 "metadata": {
  "kernelspec": {
   "display_name": "Python [conda env:base] *",
   "language": "python",
   "name": "conda-base-py"
  },
  "language_info": {
   "codemirror_mode": {
    "name": "ipython",
    "version": 3
   },
   "file_extension": ".py",
   "mimetype": "text/x-python",
   "name": "python",
   "nbconvert_exporter": "python",
   "pygments_lexer": "ipython3",
   "version": "3.12.7"
  }
 },
 "nbformat": 4,
 "nbformat_minor": 5
}
